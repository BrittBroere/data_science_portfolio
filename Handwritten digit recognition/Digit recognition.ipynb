{
 "cells": [
  {
   "cell_type": "markdown",
   "id": "bored-penguin",
   "metadata": {},
   "source": [
    "# Introduction \n",
    "The aim of this project is to evaluate and develop several algorithms for classifying images of handwritten digits. The data set is the MNIST data set. This data set contains 70000 digits of size 28x28. The data is split into a training set (60000) and a test set (10000). "
   ]
  },
  {
   "cell_type": "markdown",
   "id": "genuine-science",
   "metadata": {},
   "source": [
    "# Implementation\n",
    "Let's start by importing the modules that are required for this project."
   ]
  },
  {
   "cell_type": "code",
   "execution_count": 1,
   "id": "attractive-meter",
   "metadata": {},
   "outputs": [],
   "source": [
    "# import\n",
    "import numpy as np\n",
    "import matplotlib as mpl\n",
    "import matplotlib.pyplot as plt\n",
    "import math\n",
    "import pandas as pd\n",
    "import seaborn as sns\n",
    "import operator\n",
    "import tensorflow as tf\n",
    "from keras.datasets import mnist\n",
    "%matplotlib inline"
   ]
  },
  {
   "cell_type": "markdown",
   "id": "choice-horror",
   "metadata": {},
   "source": [
    "# 1. Data loading and cleaning\n",
    "In this step, the data is loaded and inspected to see if there are missing values."
   ]
  },
  {
   "cell_type": "code",
   "execution_count": 2,
   "id": "familiar-arnold",
   "metadata": {},
   "outputs": [],
   "source": [
    "# get the MNIST data set\n",
    "(X_train, y_train), (X_test, y_test) = mnist.load_data()"
   ]
  },
  {
   "cell_type": "code",
   "execution_count": 3,
   "id": "bronze-laptop",
   "metadata": {},
   "outputs": [
    {
     "name": "stdout",
     "output_type": "stream",
     "text": [
      "Shape of training dataset: (60000, 28, 28)\n",
      "Shape of test dataset: (10000, 28, 28)\n"
     ]
    }
   ],
   "source": [
    "print(\"Shape of training dataset: {}\".format(np.shape(X_train)))\n",
    "print(\"Shape of test dataset: {}\".format(np.shape(X_test)))"
   ]
  },
  {
   "cell_type": "markdown",
   "id": "intermediate-motor",
   "metadata": {},
   "source": [
    "The data are images representing digits, $d = 0, 1, \\dots, 9$. Let's take a look at such an image. "
   ]
  },
  {
   "cell_type": "code",
   "execution_count": 9,
   "id": "cubic-acquisition",
   "metadata": {},
   "outputs": [
    {
     "name": "stdout",
     "output_type": "stream",
     "text": [
      "Label for image: 5\n"
     ]
    },
    {
     "data": {
      "image/png": "[encoded data removed]",
      "text/plain": [
       "<Figure size 432x288 with 1 Axes>"
      ]
     },
     "metadata": {
      "needs_background": "light"
     },
     "output_type": "display_data"
    }
   ],
   "source": [
    "# visualize data \n",
    "plt.figure()\n",
    "plt.imshow(X_train[0], cmap='gray')\n",
    "plt.savefig('five.png')\n",
    "\n",
    "print(\"Label for image: {}\".format(y_train[0]))"
   ]
  },
  {
   "cell_type": "code",
   "execution_count": 20,
   "id": "basic-contribution",
   "metadata": {},
   "outputs": [
    {
     "data": {
      "image/png": "[encoded data removed]",
      "text/plain": [
       "<Figure size 576x576 with 9 Axes>"
      ]
     },
     "metadata": {
      "needs_background": "light"
     },
     "output_type": "display_data"
    }
   ],
   "source": [
    "w=10\n",
    "h=10\n",
    "fig=plt.figure(figsize=(8, 8))\n",
    "columns = 3\n",
    "rows = 3\n",
    "for i in range(1, columns*rows +1):\n",
    "    img = X_train[i-1]\n",
    "    fig.add_subplot(rows, columns, i)\n",
    "    plt.imshow(img, cmap='gray')\n",
    "plt.savefig('nine_digits.png')\n",
    "plt.show()"
   ]
  },
  {
   "cell_type": "markdown",
   "id": "productive-trinity",
   "metadata": {},
   "source": [
    "A $28 \\times 28$ image can also be represented by a single vector of size 784. Let's transform the $28 \\times 28$ images into such vectors and store them into dataframes. "
   ]
  },
  {
   "cell_type": "markdown",
   "id": "disabled-single",
   "metadata": {},
   "source": [
    "###### Transform training data"
   ]
  },
  {
   "cell_type": "code",
   "execution_count": 5,
   "id": "thick-great",
   "metadata": {},
   "outputs": [
    {
     "name": "stdout",
     "output_type": "stream",
     "text": [
      "Shape of training dataset is now: (60000, 784)\n"
     ]
    }
   ],
   "source": [
    "X_train_flat = X_train[0].flatten()\n",
    "for i in range(len(X_train)-1):\n",
    "    X_train_flat = np.vstack((X_train_flat, X_train[i+1].flatten()))\n",
    "\n",
    "print(\"Shape of training dataset is now: {}\".format(X_train_flat.shape))\n",
    "\n",
    "# transform np.array into a dataframe\n",
    "X_train_df = pd.DataFrame(X_train_flat)\n",
    "\n",
    "# check if it corresponds to 784 vector\n",
    "#sum([x for x in X_train_flat[600]] == X_train_df.iloc[600,:])\n",
    "\n",
    "y_train_df = pd.DataFrame(y_train)\n",
    "y_train_df.columns = ['digit']"
   ]
  },
  {
   "cell_type": "markdown",
   "id": "optimum-auction",
   "metadata": {},
   "source": [
    "###### Transform test data"
   ]
  },
  {
   "cell_type": "code",
   "execution_count": 6,
   "id": "excess-sheet",
   "metadata": {},
   "outputs": [
    {
     "name": "stdout",
     "output_type": "stream",
     "text": [
      "Shape of test dataset is now: (10000, 784)\n"
     ]
    }
   ],
   "source": [
    "X_test_flat = X_test[0].flatten()\n",
    "\n",
    "for i in range(len(X_test)-1):\n",
    "    X_test_flat = np.vstack((X_test_flat, X_test[i+1].flatten()))\n",
    "\n",
    "print(\"Shape of test dataset is now: {}\".format(X_test_flat.shape))\n",
    "\n",
    "# transform np.array into a dataframe\n",
    "X_test_df = pd.DataFrame(X_test_flat)\n",
    "\n",
    "# check if it corresponds to 784 vector\n",
    "#sum([x for x in X_test_flat[600]] == X_test_df.iloc[600,:])\n",
    "\n",
    "y_test_df = pd.DataFrame(y_test)\n",
    "y_test_df.columns = ['digit']"
   ]
  },
  {
   "cell_type": "code",
   "execution_count": 7,
   "id": "abstract-light",
   "metadata": {},
   "outputs": [
    {
     "name": "stdout",
     "output_type": "stream",
     "text": [
      "False\n",
      "False\n",
      "False\n",
      "False\n"
     ]
    }
   ],
   "source": [
    "print(X_train_df.isnull().values.any())\n",
    "print(y_train_df.isnull().values.any())\n",
    "print(X_test_df.isnull().values.any())\n",
    "print(y_train_df.isnull().values.any())"
   ]
  },
  {
   "cell_type": "markdown",
   "id": "round-elder",
   "metadata": {},
   "source": [
    "Great, no missing values! "
   ]
  },
  {
   "cell_type": "markdown",
   "id": "caroline-parallel",
   "metadata": {},
   "source": [
    "# 2. Classifiers\n",
    "The goal is to develop and evaluate several algorithms for classifying the handwritten digits. "
   ]
  },
  {
   "cell_type": "markdown",
   "id": "going-tracy",
   "metadata": {},
   "source": [
    "## 2.1  Distance-based classifier\n",
    "\n",
    "It is useful to develop some intuitions about clouds of points in highly\n",
    "dimensional spaces. Let's start with developing a simple distance-based classifier. For each digit $d$, $d = 0,1,. . . ,9$, consider a cloud of points in a 784-dimensional space, $C_d$, which consists of all training images that represent $d$. For each cloud, $C_d$, let's calculate its center, $\\bar{c}_d$, which is a 784-dimensional vector of means over all coordinates of vectors that belong to $C_d$. After calculating these centers, a new image will be classified by calculating the distance from the vector that represents this image to each of the 10 centers. The new image is assigned to the class for which the distance is smallest. "
   ]
  },
  {
   "cell_type": "markdown",
   "id": "altered-battery",
   "metadata": {},
   "source": [
    "### 2.1.1 Calculate center\n",
    "The first step is to calculate the center, $\\bar{c}_d$, for each cloud. This is done by creating a dataframe which is a concatenating of X\\_train\\_df and y\\_train\\_df. This will be a $60000 \\times 785$ dataframe, where the last column is the digit represented by the vector of 784 numbers. Then, using a for loop, let's get a vector of means for each $C_d$. The 10 centers are stored into a $10 \\times 784$ dataframe. This dataframe is shown in Table 1. "
   ]
  },
  {
   "cell_type": "code",
   "execution_count": 8,
   "id": "precious-courage",
   "metadata": {},
   "outputs": [
    {
     "name": "stdout",
     "output_type": "stream",
     "text": [
      "\n",
      "Table 1: The centers of digit d.\n"
     ]
    },
    {
     "data": {
      "text/html": [
       "<div>\n",
       "<style scoped>\n",
       "    .dataframe tbody tr th:only-of-type {\n",
       "        vertical-align: middle;\n",
       "    }\n",
       "\n",
       "    .dataframe tbody tr th {\n",
       "        vertical-align: top;\n",
       "    }\n",
       "\n",
       "    .dataframe thead th {\n",
       "        text-align: right;\n",
       "    }\n",
       "</style>\n",
       "<table border=\"1\" class=\"dataframe\">\n",
       "  <thead>\n",
       "    <tr style=\"text-align: right;\">\n",
       "      <th></th>\n",
       "      <th>0</th>\n",
       "      <th>1</th>\n",
       "      <th>2</th>\n",
       "      <th>3</th>\n",
       "      <th>4</th>\n",
       "      <th>5</th>\n",
       "      <th>6</th>\n",
       "      <th>7</th>\n",
       "      <th>8</th>\n",
       "      <th>9</th>\n",
       "      <th>...</th>\n",
       "      <th>774</th>\n",
       "      <th>775</th>\n",
       "      <th>776</th>\n",
       "      <th>777</th>\n",
       "      <th>778</th>\n",
       "      <th>779</th>\n",
       "      <th>780</th>\n",
       "      <th>781</th>\n",
       "      <th>782</th>\n",
       "      <th>783</th>\n",
       "    </tr>\n",
       "  </thead>\n",
       "  <tbody>\n",
       "    <tr>\n",
       "      <th>0</th>\n",
       "      <td>0.0</td>\n",
       "      <td>0.0</td>\n",
       "      <td>0.0</td>\n",
       "      <td>0.0</td>\n",
       "      <td>0.0</td>\n",
       "      <td>0.0</td>\n",
       "      <td>0.0</td>\n",
       "      <td>0.0</td>\n",
       "      <td>0.0</td>\n",
       "      <td>0.0</td>\n",
       "      <td>...</td>\n",
       "      <td>0.000000</td>\n",
       "      <td>0.000000</td>\n",
       "      <td>0.000000</td>\n",
       "      <td>0.000000</td>\n",
       "      <td>0.000000</td>\n",
       "      <td>0.000000</td>\n",
       "      <td>0.0</td>\n",
       "      <td>0.0</td>\n",
       "      <td>0.0</td>\n",
       "      <td>0.0</td>\n",
       "    </tr>\n",
       "    <tr>\n",
       "      <th>1</th>\n",
       "      <td>0.0</td>\n",
       "      <td>0.0</td>\n",
       "      <td>0.0</td>\n",
       "      <td>0.0</td>\n",
       "      <td>0.0</td>\n",
       "      <td>0.0</td>\n",
       "      <td>0.0</td>\n",
       "      <td>0.0</td>\n",
       "      <td>0.0</td>\n",
       "      <td>0.0</td>\n",
       "      <td>...</td>\n",
       "      <td>0.000000</td>\n",
       "      <td>0.000000</td>\n",
       "      <td>0.000000</td>\n",
       "      <td>0.000000</td>\n",
       "      <td>0.000000</td>\n",
       "      <td>0.000000</td>\n",
       "      <td>0.0</td>\n",
       "      <td>0.0</td>\n",
       "      <td>0.0</td>\n",
       "      <td>0.0</td>\n",
       "    </tr>\n",
       "    <tr>\n",
       "      <th>2</th>\n",
       "      <td>0.0</td>\n",
       "      <td>0.0</td>\n",
       "      <td>0.0</td>\n",
       "      <td>0.0</td>\n",
       "      <td>0.0</td>\n",
       "      <td>0.0</td>\n",
       "      <td>0.0</td>\n",
       "      <td>0.0</td>\n",
       "      <td>0.0</td>\n",
       "      <td>0.0</td>\n",
       "      <td>...</td>\n",
       "      <td>0.000000</td>\n",
       "      <td>0.000000</td>\n",
       "      <td>0.000000</td>\n",
       "      <td>0.000000</td>\n",
       "      <td>0.000000</td>\n",
       "      <td>0.000000</td>\n",
       "      <td>0.0</td>\n",
       "      <td>0.0</td>\n",
       "      <td>0.0</td>\n",
       "      <td>0.0</td>\n",
       "    </tr>\n",
       "    <tr>\n",
       "      <th>3</th>\n",
       "      <td>0.0</td>\n",
       "      <td>0.0</td>\n",
       "      <td>0.0</td>\n",
       "      <td>0.0</td>\n",
       "      <td>0.0</td>\n",
       "      <td>0.0</td>\n",
       "      <td>0.0</td>\n",
       "      <td>0.0</td>\n",
       "      <td>0.0</td>\n",
       "      <td>0.0</td>\n",
       "      <td>...</td>\n",
       "      <td>0.000000</td>\n",
       "      <td>0.000000</td>\n",
       "      <td>0.000000</td>\n",
       "      <td>0.000000</td>\n",
       "      <td>0.000000</td>\n",
       "      <td>0.000000</td>\n",
       "      <td>0.0</td>\n",
       "      <td>0.0</td>\n",
       "      <td>0.0</td>\n",
       "      <td>0.0</td>\n",
       "    </tr>\n",
       "    <tr>\n",
       "      <th>4</th>\n",
       "      <td>0.0</td>\n",
       "      <td>0.0</td>\n",
       "      <td>0.0</td>\n",
       "      <td>0.0</td>\n",
       "      <td>0.0</td>\n",
       "      <td>0.0</td>\n",
       "      <td>0.0</td>\n",
       "      <td>0.0</td>\n",
       "      <td>0.0</td>\n",
       "      <td>0.0</td>\n",
       "      <td>...</td>\n",
       "      <td>0.000000</td>\n",
       "      <td>0.000000</td>\n",
       "      <td>0.000000</td>\n",
       "      <td>0.000000</td>\n",
       "      <td>0.000000</td>\n",
       "      <td>0.000000</td>\n",
       "      <td>0.0</td>\n",
       "      <td>0.0</td>\n",
       "      <td>0.0</td>\n",
       "      <td>0.0</td>\n",
       "    </tr>\n",
       "    <tr>\n",
       "      <th>5</th>\n",
       "      <td>0.0</td>\n",
       "      <td>0.0</td>\n",
       "      <td>0.0</td>\n",
       "      <td>0.0</td>\n",
       "      <td>0.0</td>\n",
       "      <td>0.0</td>\n",
       "      <td>0.0</td>\n",
       "      <td>0.0</td>\n",
       "      <td>0.0</td>\n",
       "      <td>0.0</td>\n",
       "      <td>...</td>\n",
       "      <td>0.000000</td>\n",
       "      <td>0.000000</td>\n",
       "      <td>0.000000</td>\n",
       "      <td>0.000000</td>\n",
       "      <td>0.000000</td>\n",
       "      <td>0.000000</td>\n",
       "      <td>0.0</td>\n",
       "      <td>0.0</td>\n",
       "      <td>0.0</td>\n",
       "      <td>0.0</td>\n",
       "    </tr>\n",
       "    <tr>\n",
       "      <th>6</th>\n",
       "      <td>0.0</td>\n",
       "      <td>0.0</td>\n",
       "      <td>0.0</td>\n",
       "      <td>0.0</td>\n",
       "      <td>0.0</td>\n",
       "      <td>0.0</td>\n",
       "      <td>0.0</td>\n",
       "      <td>0.0</td>\n",
       "      <td>0.0</td>\n",
       "      <td>0.0</td>\n",
       "      <td>...</td>\n",
       "      <td>0.000000</td>\n",
       "      <td>0.000000</td>\n",
       "      <td>0.000000</td>\n",
       "      <td>0.000000</td>\n",
       "      <td>0.000000</td>\n",
       "      <td>0.000000</td>\n",
       "      <td>0.0</td>\n",
       "      <td>0.0</td>\n",
       "      <td>0.0</td>\n",
       "      <td>0.0</td>\n",
       "    </tr>\n",
       "    <tr>\n",
       "      <th>7</th>\n",
       "      <td>0.0</td>\n",
       "      <td>0.0</td>\n",
       "      <td>0.0</td>\n",
       "      <td>0.0</td>\n",
       "      <td>0.0</td>\n",
       "      <td>0.0</td>\n",
       "      <td>0.0</td>\n",
       "      <td>0.0</td>\n",
       "      <td>0.0</td>\n",
       "      <td>0.0</td>\n",
       "      <td>...</td>\n",
       "      <td>1.765682</td>\n",
       "      <td>0.672785</td>\n",
       "      <td>0.258101</td>\n",
       "      <td>0.105188</td>\n",
       "      <td>0.112211</td>\n",
       "      <td>0.019154</td>\n",
       "      <td>0.0</td>\n",
       "      <td>0.0</td>\n",
       "      <td>0.0</td>\n",
       "      <td>0.0</td>\n",
       "    </tr>\n",
       "    <tr>\n",
       "      <th>8</th>\n",
       "      <td>0.0</td>\n",
       "      <td>0.0</td>\n",
       "      <td>0.0</td>\n",
       "      <td>0.0</td>\n",
       "      <td>0.0</td>\n",
       "      <td>0.0</td>\n",
       "      <td>0.0</td>\n",
       "      <td>0.0</td>\n",
       "      <td>0.0</td>\n",
       "      <td>0.0</td>\n",
       "      <td>...</td>\n",
       "      <td>0.000000</td>\n",
       "      <td>0.000000</td>\n",
       "      <td>0.000000</td>\n",
       "      <td>0.000000</td>\n",
       "      <td>0.000000</td>\n",
       "      <td>0.000000</td>\n",
       "      <td>0.0</td>\n",
       "      <td>0.0</td>\n",
       "      <td>0.0</td>\n",
       "      <td>0.0</td>\n",
       "    </tr>\n",
       "    <tr>\n",
       "      <th>9</th>\n",
       "      <td>0.0</td>\n",
       "      <td>0.0</td>\n",
       "      <td>0.0</td>\n",
       "      <td>0.0</td>\n",
       "      <td>0.0</td>\n",
       "      <td>0.0</td>\n",
       "      <td>0.0</td>\n",
       "      <td>0.0</td>\n",
       "      <td>0.0</td>\n",
       "      <td>0.0</td>\n",
       "      <td>...</td>\n",
       "      <td>0.162044</td>\n",
       "      <td>0.187763</td>\n",
       "      <td>0.188435</td>\n",
       "      <td>0.083712</td>\n",
       "      <td>0.034291</td>\n",
       "      <td>0.000000</td>\n",
       "      <td>0.0</td>\n",
       "      <td>0.0</td>\n",
       "      <td>0.0</td>\n",
       "      <td>0.0</td>\n",
       "    </tr>\n",
       "  </tbody>\n",
       "</table>\n",
       "<p>10 rows × 784 columns</p>\n",
       "</div>"
      ],
      "text/plain": [
       "   0    1    2    3    4    5    6    7    8    9    ...       774       775  \\\n",
       "0  0.0  0.0  0.0  0.0  0.0  0.0  0.0  0.0  0.0  0.0  ...  0.000000  0.000000   \n",
       "1  0.0  0.0  0.0  0.0  0.0  0.0  0.0  0.0  0.0  0.0  ...  0.000000  0.000000   \n",
       "2  0.0  0.0  0.0  0.0  0.0  0.0  0.0  0.0  0.0  0.0  ...  0.000000  0.000000   \n",
       "3  0.0  0.0  0.0  0.0  0.0  0.0  0.0  0.0  0.0  0.0  ...  0.000000  0.000000   \n",
       "4  0.0  0.0  0.0  0.0  0.0  0.0  0.0  0.0  0.0  0.0  ...  0.000000  0.000000   \n",
       "5  0.0  0.0  0.0  0.0  0.0  0.0  0.0  0.0  0.0  0.0  ...  0.000000  0.000000   \n",
       "6  0.0  0.0  0.0  0.0  0.0  0.0  0.0  0.0  0.0  0.0  ...  0.000000  0.000000   \n",
       "7  0.0  0.0  0.0  0.0  0.0  0.0  0.0  0.0  0.0  0.0  ...  1.765682  0.672785   \n",
       "8  0.0  0.0  0.0  0.0  0.0  0.0  0.0  0.0  0.0  0.0  ...  0.000000  0.000000   \n",
       "9  0.0  0.0  0.0  0.0  0.0  0.0  0.0  0.0  0.0  0.0  ...  0.162044  0.187763   \n",
       "\n",
       "        776       777       778       779  780  781  782  783  \n",
       "0  0.000000  0.000000  0.000000  0.000000  0.0  0.0  0.0  0.0  \n",
       "1  0.000000  0.000000  0.000000  0.000000  0.0  0.0  0.0  0.0  \n",
       "2  0.000000  0.000000  0.000000  0.000000  0.0  0.0  0.0  0.0  \n",
       "3  0.000000  0.000000  0.000000  0.000000  0.0  0.0  0.0  0.0  \n",
       "4  0.000000  0.000000  0.000000  0.000000  0.0  0.0  0.0  0.0  \n",
       "5  0.000000  0.000000  0.000000  0.000000  0.0  0.0  0.0  0.0  \n",
       "6  0.000000  0.000000  0.000000  0.000000  0.0  0.0  0.0  0.0  \n",
       "7  0.258101  0.105188  0.112211  0.019154  0.0  0.0  0.0  0.0  \n",
       "8  0.000000  0.000000  0.000000  0.000000  0.0  0.0  0.0  0.0  \n",
       "9  0.188435  0.083712  0.034291  0.000000  0.0  0.0  0.0  0.0  \n",
       "\n",
       "[10 rows x 784 columns]"
      ]
     },
     "metadata": {},
     "output_type": "display_data"
    }
   ],
   "source": [
    "# concatenate the dataframes\n",
    "train_df = pd.concat([X_train_df, y_train_df], axis = 1)\n",
    "\n",
    "# initialize empty dataframe to store centers\n",
    "train_center = pd.DataFrame()\n",
    "\n",
    "# get center of every cloud\n",
    "for d in range(10):\n",
    "    new_row = pd.DataFrame(train_df.loc[train_df.iloc[:,-1] == d, ].mean()).T\n",
    "    train_center = train_center.append(new_row)\n",
    "train_center = train_center.iloc[:, :-1]\n",
    "train_center.index = range(10)\n",
    "\n",
    "# the center of digit d\n",
    "print(\"\\nTable 1: The centers of digit d.\")\n",
    "display(train_center)"
   ]
  },
  {
   "cell_type": "markdown",
   "id": "digital-circuit",
   "metadata": {},
   "source": [
    "### 2.1.2 Calculate radius\n",
    "For each cloud $C_d$, the radius, $r_d$, is also calculated. This radius is defined as the biggest distance between the center of $C_d$ and the points of $C_d$. The radius, $r_d$, is calculated by subtracting the center, $\\bar{c}_d$, from each of the points of $C_d$ and squaring this. Then, the values of each row are summed and the square root is taken over this value. By then, the result is a vector (of which the length was equal to the number of points of $C_d$) of distances. Since the radius is the biggest distance, the biggest value from this vector is extracted and stored into a dataframe. That way, the end result is a $10 \\times 1$ dataframe, which can e seen in Table 2. "
   ]
  },
  {
   "cell_type": "code",
   "execution_count": 9,
   "id": "advance-nicaragua",
   "metadata": {},
   "outputs": [
    {
     "name": "stdout",
     "output_type": "stream",
     "text": [
      "\n",
      "Table 2: The radius of digit d.\n"
     ]
    },
    {
     "data": {
      "text/html": [
       "<div>\n",
       "<style scoped>\n",
       "    .dataframe tbody tr th:only-of-type {\n",
       "        vertical-align: middle;\n",
       "    }\n",
       "\n",
       "    .dataframe tbody tr th {\n",
       "        vertical-align: top;\n",
       "    }\n",
       "\n",
       "    .dataframe thead th {\n",
       "        text-align: right;\n",
       "    }\n",
       "</style>\n",
       "<table border=\"1\" class=\"dataframe\">\n",
       "  <thead>\n",
       "    <tr style=\"text-align: right;\">\n",
       "      <th></th>\n",
       "      <th>Radius</th>\n",
       "    </tr>\n",
       "  </thead>\n",
       "  <tbody>\n",
       "    <tr>\n",
       "      <th>0</th>\n",
       "      <td>2819.601369</td>\n",
       "    </tr>\n",
       "    <tr>\n",
       "      <th>1</th>\n",
       "      <td>2523.827282</td>\n",
       "    </tr>\n",
       "    <tr>\n",
       "      <th>2</th>\n",
       "      <td>2658.157521</td>\n",
       "    </tr>\n",
       "    <tr>\n",
       "      <th>3</th>\n",
       "      <td>2865.013660</td>\n",
       "    </tr>\n",
       "    <tr>\n",
       "      <th>4</th>\n",
       "      <td>2844.438736</td>\n",
       "    </tr>\n",
       "    <tr>\n",
       "      <th>5</th>\n",
       "      <td>2723.871508</td>\n",
       "    </tr>\n",
       "    <tr>\n",
       "      <th>6</th>\n",
       "      <td>2784.468500</td>\n",
       "    </tr>\n",
       "    <tr>\n",
       "      <th>7</th>\n",
       "      <td>2702.731897</td>\n",
       "    </tr>\n",
       "    <tr>\n",
       "      <th>8</th>\n",
       "      <td>2914.569563</td>\n",
       "    </tr>\n",
       "    <tr>\n",
       "      <th>9</th>\n",
       "      <td>2867.739967</td>\n",
       "    </tr>\n",
       "  </tbody>\n",
       "</table>\n",
       "</div>"
      ],
      "text/plain": [
       "        Radius\n",
       "0  2819.601369\n",
       "1  2523.827282\n",
       "2  2658.157521\n",
       "3  2865.013660\n",
       "4  2844.438736\n",
       "5  2723.871508\n",
       "6  2784.468500\n",
       "7  2702.731897\n",
       "8  2914.569563\n",
       "9  2867.739967"
      ]
     },
     "metadata": {},
     "output_type": "display_data"
    }
   ],
   "source": [
    "# initialize empty list\n",
    "radius = []\n",
    "\n",
    "# get radius of every cloud\n",
    "for d in range(10):\n",
    "    radius.append(\n",
    "        max(np.sqrt(((train_df.loc[train_df.iloc[:,-1] == d, ].iloc[:, :-1] - train_center.iloc[d,])**2).sum(axis=1)))\n",
    "    )\n",
    "\n",
    "radius = pd.Series(radius, name=\"Radius\")\n",
    "\n",
    "# the radius of digit d\n",
    "print(\"\\nTable 2: The radius of digit d.\")\n",
    "display(radius.to_frame())"
   ]
  },
  {
   "cell_type": "markdown",
   "id": "noble-switzerland",
   "metadata": {},
   "source": [
    "### 2.1.3 Count occurences\n",
    "It is also important to find the number of points that belong to $C_d$, $n_i$. This can be done by counting how many times each digit, $d = 0,1,. . .,9$ occurred in y\\_train\\_df."
   ]
  },
  {
   "cell_type": "code",
   "execution_count": 10,
   "id": "reliable-index",
   "metadata": {},
   "outputs": [
    {
     "name": "stdout",
     "output_type": "stream",
     "text": [
      "There belong 5923 number of points to number 0\n",
      "There belong 6742 number of points to number 1\n",
      "There belong 5958 number of points to number 2\n",
      "There belong 6131 number of points to number 3\n",
      "There belong 5842 number of points to number 4\n",
      "There belong 5421 number of points to number 5\n",
      "There belong 5918 number of points to number 6\n",
      "There belong 6265 number of points to number 7\n",
      "There belong 5851 number of points to number 8\n",
      "There belong 5949 number of points to number 9\n"
     ]
    },
    {
     "data": {
      "text/plain": [
       "<AxesSubplot:xlabel='digit', ylabel='count'>"
      ]
     },
     "execution_count": 10,
     "metadata": {},
     "output_type": "execute_result"
    },
    {
     "data": {
      "image/png": "[encoded data removed]",
      "text/plain": [
       "<Figure size 432x288 with 1 Axes>"
      ]
     },
     "metadata": {
      "needs_background": "light"
     },
     "output_type": "display_data"
    }
   ],
   "source": [
    "# counting the number of points that belong to Cd, ni\n",
    "for d in range(10):\n",
    "    print(\"There belong\", sum(train_df.iloc[:,-1] == d), \"number of points to number\", d )\n",
    "\n",
    "sns.countplot(x=\"digit\", data=y_train_df)"
   ]
  },
  {
   "cell_type": "markdown",
   "id": "cleared-victim",
   "metadata": {},
   "source": [
    "It can be concluded that the training data is quite balanced, however not completely balanced. For example number 5 occured 5421 times and number 1, 6742 times. This could influence the classifier. However, the difference is not very big. "
   ]
  },
  {
   "cell_type": "markdown",
   "id": "descending-forestry",
   "metadata": {},
   "source": [
    "### 2.1.4 Calculate distance\n",
    "Next, the distances between the 10 centers, $dist_{ij} = dist(\\bar{c}_i, \\bar{c}_j)$, for $i, j = 0, 1, \\dots, 9$, need to be calculated. Figure 1 shows a heatmap of the distances. "
   ]
  },
  {
   "cell_type": "code",
   "execution_count": 11,
   "id": "southwest-table",
   "metadata": {},
   "outputs": [
    {
     "name": "stdout",
     "output_type": "stream",
     "text": [
      "\n",
      "Figure 1: The heatmap of the distances.\n"
     ]
    },
    {
     "data": {
      "image/png": "[encoded data removed]",
      "text/plain": [
       "<Figure size 936x936 with 2 Axes>"
      ]
     },
     "metadata": {
      "needs_background": "light"
     },
     "output_type": "display_data"
    }
   ],
   "source": [
    "# calculate the distances between the centers of the 10 clouds\n",
    "def find_distances(centers):\n",
    "    distances = np.zeros((len(centers), len(centers)))\n",
    "  \n",
    "    for i in range(len(centers)):\n",
    "        for j in range(len(centers)):\n",
    "            distances[i,j] = np.linalg.norm(centers.iloc[i,]-centers.iloc[j,])\n",
    "    return(distances)\n",
    "\n",
    "fig, ax = plt.subplots(figsize=(13,13))      # size of figure\n",
    "distances = find_distances(train_center)\n",
    "distances = distances.round(0)\n",
    "\n",
    "print(\"\\nFigure 1: The heatmap of the distances.\")\n",
    "distance_heatmap = sns.heatmap(distances, annot=True, cmap=\"YlGnBu\", cbar=True, annot_kws={\"size\": 9}, fmt='g')\n",
    "distance_heatmap.invert_yaxis()"
   ]
  },
  {
   "cell_type": "markdown",
   "id": "atomic-boring",
   "metadata": {},
   "source": [
    "Figure 1 shows that some numbers seems hard to distinguish. The lighter the color of the square in Figure 1, the smaller the distance between the two digits. If the distance between two digits is small, the classifier will have trouble distinguishing these two digits. The most difficult numbers to separate will be 4 & 9. But, also the following pairs are going to be difficult to separate: 7 & 9, 3 & 5, and 5 & 8. It was mentioned earlier that the occurrence of number 5 is lower than that of the other numbers (5421 times in the training data). This could explain why the number 5 is harder to seperate from the numbers 3 and 8. "
   ]
  },
  {
   "cell_type": "markdown",
   "id": "liberal-fellowship",
   "metadata": {},
   "source": [
    "### 2.1.5 Implement and evaluate\n",
    "Let's implement the simplest distance-based classifier that was described above. This is done by making a function that predicts the digit, given the training data, X\\_train\\_df, and the centers, train\\_center. The distance is calculated by subtracting the centers, $\\bar{c}_d$, from a row in X\\_train\\_df and squaring this. Then, the sum of this row is taken and over this, the square root is taken. Then, the center which gives the minimum distance is the predicted digit. For example, the distance between the first row of X\\_train\\_df and each of the ten centers was calculated. Say, that the distance between the first row and the center of digit 4 is smallest, then the first row would be classified as a 4. This is done for the whole training set. "
   ]
  },
  {
   "cell_type": "code",
   "execution_count": 12,
   "id": "innovative-future",
   "metadata": {},
   "outputs": [],
   "source": [
    "# implement the simplest distance-based classifier\n",
    "def distance_classifier(input_data, centers):\n",
    "    pred = []\n",
    "    for i in range(len(input_data)):\n",
    "        distances_to_centers = []\n",
    "        for j in range(10):\n",
    "            distances_to_centers.append(sum((input_data.iloc[i,] - centers.iloc[j,])**2))\n",
    "        pred.append(distances_to_centers.index(min(distances_to_centers)))\n",
    " \n",
    "    return(pred)"
   ]
  },
  {
   "cell_type": "code",
   "execution_count": 13,
   "id": "flying-warrant",
   "metadata": {},
   "outputs": [
    {
     "name": "stdout",
     "output_type": "stream",
     "text": [
      "Accuracy score: 0.8079833333333334\n",
      "Percentage correct: 80.8\n",
      "              precision    recall  f1-score   support\n",
      "\n",
      "           0       0.91      0.87      0.89      5923\n",
      "           1       0.75      0.96      0.84      6742\n",
      "           2       0.87      0.76      0.81      5958\n",
      "           3       0.74      0.77      0.76      6131\n",
      "           4       0.80      0.81      0.80      5842\n",
      "           5       0.73      0.67      0.70      5421\n",
      "           6       0.88      0.87      0.87      5918\n",
      "           7       0.90      0.84      0.87      6265\n",
      "           8       0.79      0.73      0.76      5851\n",
      "           9       0.74      0.78      0.76      5949\n",
      "\n",
      "    accuracy                           0.81     60000\n",
      "   macro avg       0.81      0.80      0.81     60000\n",
      "weighted avg       0.81      0.81      0.81     60000\n",
      "\n"
     ]
    }
   ],
   "source": [
    "# import some needed modules\n",
    "from sklearn.metrics import confusion_matrix\n",
    "from sklearn.metrics import accuracy_score\n",
    "from sklearn.metrics import classification_report\n",
    "\n",
    "# apply classifier to all points from the training set \n",
    "predicted_vals = distance_classifier(X_train_df, train_center)\n",
    "\n",
    "# percentage correct\n",
    "print(\"Accuracy score:\", accuracy_score(y_train_df, predicted_vals))\n",
    "print(\"Percentage correct:\", (accuracy_score(y_train_df, predicted_vals)*100).round(2))\n",
    "\n",
    "# classification report\n",
    "print(classification_report(y_train_df, predicted_vals))"
   ]
  },
  {
   "cell_type": "markdown",
   "id": "married-guinea",
   "metadata": {},
   "source": [
    "The accuracy score of this classifier was $0.81$. According to the classification report, the digits 5 and 8 were the most difficult to classify. For these two digits, the column 'recall', is the lowest. "
   ]
  },
  {
   "cell_type": "code",
   "execution_count": 14,
   "id": "played-preservation",
   "metadata": {},
   "outputs": [
    {
     "name": "stdout",
     "output_type": "stream",
     "text": [
      "\n",
      "Table 3: Confusion matrix of the training data.\n"
     ]
    },
    {
     "data": {
      "text/html": [
       "<div>\n",
       "<style scoped>\n",
       "    .dataframe tbody tr th:only-of-type {\n",
       "        vertical-align: middle;\n",
       "    }\n",
       "\n",
       "    .dataframe tbody tr th {\n",
       "        vertical-align: top;\n",
       "    }\n",
       "\n",
       "    .dataframe thead th {\n",
       "        text-align: right;\n",
       "    }\n",
       "</style>\n",
       "<table border=\"1\" class=\"dataframe\">\n",
       "  <thead>\n",
       "    <tr style=\"text-align: right;\">\n",
       "      <th></th>\n",
       "      <th>0</th>\n",
       "      <th>1</th>\n",
       "      <th>2</th>\n",
       "      <th>3</th>\n",
       "      <th>4</th>\n",
       "      <th>5</th>\n",
       "      <th>6</th>\n",
       "      <th>7</th>\n",
       "      <th>8</th>\n",
       "      <th>9</th>\n",
       "    </tr>\n",
       "  </thead>\n",
       "  <tbody>\n",
       "    <tr>\n",
       "      <th>0</th>\n",
       "      <td>5134</td>\n",
       "      <td>4</td>\n",
       "      <td>51</td>\n",
       "      <td>26</td>\n",
       "      <td>16</td>\n",
       "      <td>402</td>\n",
       "      <td>169</td>\n",
       "      <td>23</td>\n",
       "      <td>83</td>\n",
       "      <td>15</td>\n",
       "    </tr>\n",
       "    <tr>\n",
       "      <th>1</th>\n",
       "      <td>0</td>\n",
       "      <td>6485</td>\n",
       "      <td>49</td>\n",
       "      <td>11</td>\n",
       "      <td>3</td>\n",
       "      <td>78</td>\n",
       "      <td>9</td>\n",
       "      <td>7</td>\n",
       "      <td>94</td>\n",
       "      <td>6</td>\n",
       "    </tr>\n",
       "    <tr>\n",
       "      <th>2</th>\n",
       "      <td>98</td>\n",
       "      <td>359</td>\n",
       "      <td>4516</td>\n",
       "      <td>208</td>\n",
       "      <td>171</td>\n",
       "      <td>36</td>\n",
       "      <td>183</td>\n",
       "      <td>124</td>\n",
       "      <td>231</td>\n",
       "      <td>32</td>\n",
       "    </tr>\n",
       "    <tr>\n",
       "      <th>3</th>\n",
       "      <td>53</td>\n",
       "      <td>183</td>\n",
       "      <td>200</td>\n",
       "      <td>4721</td>\n",
       "      <td>12</td>\n",
       "      <td>365</td>\n",
       "      <td>48</td>\n",
       "      <td>64</td>\n",
       "      <td>328</td>\n",
       "      <td>157</td>\n",
       "    </tr>\n",
       "    <tr>\n",
       "      <th>4</th>\n",
       "      <td>11</td>\n",
       "      <td>139</td>\n",
       "      <td>30</td>\n",
       "      <td>0</td>\n",
       "      <td>4722</td>\n",
       "      <td>10</td>\n",
       "      <td>105</td>\n",
       "      <td>26</td>\n",
       "      <td>76</td>\n",
       "      <td>723</td>\n",
       "    </tr>\n",
       "    <tr>\n",
       "      <th>5</th>\n",
       "      <td>95</td>\n",
       "      <td>435</td>\n",
       "      <td>32</td>\n",
       "      <td>713</td>\n",
       "      <td>147</td>\n",
       "      <td>3635</td>\n",
       "      <td>111</td>\n",
       "      <td>42</td>\n",
       "      <td>64</td>\n",
       "      <td>147</td>\n",
       "    </tr>\n",
       "    <tr>\n",
       "      <th>6</th>\n",
       "      <td>81</td>\n",
       "      <td>213</td>\n",
       "      <td>153</td>\n",
       "      <td>4</td>\n",
       "      <td>115</td>\n",
       "      <td>189</td>\n",
       "      <td>5137</td>\n",
       "      <td>0</td>\n",
       "      <td>26</td>\n",
       "      <td>0</td>\n",
       "    </tr>\n",
       "    <tr>\n",
       "      <th>7</th>\n",
       "      <td>34</td>\n",
       "      <td>315</td>\n",
       "      <td>63</td>\n",
       "      <td>6</td>\n",
       "      <td>143</td>\n",
       "      <td>20</td>\n",
       "      <td>4</td>\n",
       "      <td>5267</td>\n",
       "      <td>84</td>\n",
       "      <td>329</td>\n",
       "    </tr>\n",
       "    <tr>\n",
       "      <th>8</th>\n",
       "      <td>48</td>\n",
       "      <td>355</td>\n",
       "      <td>76</td>\n",
       "      <td>554</td>\n",
       "      <td>65</td>\n",
       "      <td>212</td>\n",
       "      <td>48</td>\n",
       "      <td>22</td>\n",
       "      <td>4242</td>\n",
       "      <td>229</td>\n",
       "    </tr>\n",
       "    <tr>\n",
       "      <th>9</th>\n",
       "      <td>62</td>\n",
       "      <td>181</td>\n",
       "      <td>48</td>\n",
       "      <td>97</td>\n",
       "      <td>498</td>\n",
       "      <td>51</td>\n",
       "      <td>10</td>\n",
       "      <td>266</td>\n",
       "      <td>116</td>\n",
       "      <td>4620</td>\n",
       "    </tr>\n",
       "  </tbody>\n",
       "</table>\n",
       "</div>"
      ],
      "text/plain": [
       "      0     1     2     3     4     5     6     7     8     9\n",
       "0  5134     4    51    26    16   402   169    23    83    15\n",
       "1     0  6485    49    11     3    78     9     7    94     6\n",
       "2    98   359  4516   208   171    36   183   124   231    32\n",
       "3    53   183   200  4721    12   365    48    64   328   157\n",
       "4    11   139    30     0  4722    10   105    26    76   723\n",
       "5    95   435    32   713   147  3635   111    42    64   147\n",
       "6    81   213   153     4   115   189  5137     0    26     0\n",
       "7    34   315    63     6   143    20     4  5267    84   329\n",
       "8    48   355    76   554    65   212    48    22  4242   229\n",
       "9    62   181    48    97   498    51    10   266   116  4620"
      ]
     },
     "execution_count": 14,
     "metadata": {},
     "output_type": "execute_result"
    }
   ],
   "source": [
    "# confusion_matrix\n",
    "print(\"\\nTable 3: Confusion matrix of the training data.\")\n",
    "pd.DataFrame(confusion_matrix(y_train_df, predicted_vals))"
   ]
  },
  {
   "cell_type": "markdown",
   "id": "brazilian-restriction",
   "metadata": {},
   "source": [
    "As can be seen in Table 3, 0 was quite often misclassified as 5. Also, 2 was often misclasssified as 1, 3 was often misclassified as 5 or 8, 4 was often misclassified as 9, 5 was often misclassified as 1 or 3, 7 was often misclassified as 1 or 9, 8 was often misclassified as 1 or 3, 9 was often misclassified as 4. "
   ]
  },
  {
   "cell_type": "markdown",
   "id": "portable-parallel",
   "metadata": {},
   "source": [
    "Now, the distance-based classifier is evaluated on the test set. "
   ]
  },
  {
   "cell_type": "code",
   "execution_count": 15,
   "id": "bound-package",
   "metadata": {},
   "outputs": [
    {
     "name": "stdout",
     "output_type": "stream",
     "text": [
      "Accuracy score: 0.8203\n",
      "Percentage correct: 82.03\n",
      "              precision    recall  f1-score   support\n",
      "\n",
      "           0       0.91      0.90      0.90       980\n",
      "           1       0.77      0.96      0.86      1135\n",
      "           2       0.88      0.76      0.81      1032\n",
      "           3       0.77      0.81      0.78      1010\n",
      "           4       0.80      0.83      0.81       982\n",
      "           5       0.75      0.69      0.72       892\n",
      "           6       0.88      0.86      0.87       958\n",
      "           7       0.91      0.83      0.87      1028\n",
      "           8       0.79      0.74      0.76       974\n",
      "           9       0.77      0.81      0.79      1009\n",
      "\n",
      "    accuracy                           0.82     10000\n",
      "   macro avg       0.82      0.82      0.82     10000\n",
      "weighted avg       0.82      0.82      0.82     10000\n",
      "\n"
     ]
    }
   ],
   "source": [
    "# apply classifier to all points from the test set \n",
    "predicted_vals_test = distance_classifier(X_test_df, train_center)\n",
    "\n",
    "# percentage correct\n",
    "print(\"Accuracy score:\", accuracy_score(y_test_df, predicted_vals_test))\n",
    "print(\"Percentage correct:\", (accuracy_score(y_test_df, predicted_vals_test)*100).round(2))\n",
    "\n",
    "# classification report\n",
    "print(classification_report(y_test_df, predicted_vals_test))"
   ]
  },
  {
   "cell_type": "markdown",
   "id": "comfortable-backup",
   "metadata": {},
   "source": [
    "For this set, the accuracy score was $0.82$. So the percentage of correctly classified digits increased from $81 \\%$ to $82 \\%$. "
   ]
  },
  {
   "cell_type": "code",
   "execution_count": 16,
   "id": "worth-automation",
   "metadata": {},
   "outputs": [
    {
     "name": "stdout",
     "output_type": "stream",
     "text": [
      "\n",
      "Table 4: Confusion matrix of the training data.\n"
     ]
    },
    {
     "data": {
      "text/html": [
       "<div>\n",
       "<style scoped>\n",
       "    .dataframe tbody tr th:only-of-type {\n",
       "        vertical-align: middle;\n",
       "    }\n",
       "\n",
       "    .dataframe tbody tr th {\n",
       "        vertical-align: top;\n",
       "    }\n",
       "\n",
       "    .dataframe thead th {\n",
       "        text-align: right;\n",
       "    }\n",
       "</style>\n",
       "<table border=\"1\" class=\"dataframe\">\n",
       "  <thead>\n",
       "    <tr style=\"text-align: right;\">\n",
       "      <th></th>\n",
       "      <th>0</th>\n",
       "      <th>1</th>\n",
       "      <th>2</th>\n",
       "      <th>3</th>\n",
       "      <th>4</th>\n",
       "      <th>5</th>\n",
       "      <th>6</th>\n",
       "      <th>7</th>\n",
       "      <th>8</th>\n",
       "      <th>9</th>\n",
       "    </tr>\n",
       "  </thead>\n",
       "  <tbody>\n",
       "    <tr>\n",
       "      <th>0</th>\n",
       "      <td>878</td>\n",
       "      <td>0</td>\n",
       "      <td>7</td>\n",
       "      <td>2</td>\n",
       "      <td>2</td>\n",
       "      <td>58</td>\n",
       "      <td>25</td>\n",
       "      <td>1</td>\n",
       "      <td>7</td>\n",
       "      <td>0</td>\n",
       "    </tr>\n",
       "    <tr>\n",
       "      <th>1</th>\n",
       "      <td>0</td>\n",
       "      <td>1092</td>\n",
       "      <td>10</td>\n",
       "      <td>3</td>\n",
       "      <td>0</td>\n",
       "      <td>7</td>\n",
       "      <td>3</td>\n",
       "      <td>0</td>\n",
       "      <td>20</td>\n",
       "      <td>0</td>\n",
       "    </tr>\n",
       "    <tr>\n",
       "      <th>2</th>\n",
       "      <td>19</td>\n",
       "      <td>71</td>\n",
       "      <td>781</td>\n",
       "      <td>33</td>\n",
       "      <td>31</td>\n",
       "      <td>3</td>\n",
       "      <td>23</td>\n",
       "      <td>18</td>\n",
       "      <td>50</td>\n",
       "      <td>3</td>\n",
       "    </tr>\n",
       "    <tr>\n",
       "      <th>3</th>\n",
       "      <td>4</td>\n",
       "      <td>24</td>\n",
       "      <td>25</td>\n",
       "      <td>814</td>\n",
       "      <td>1</td>\n",
       "      <td>49</td>\n",
       "      <td>8</td>\n",
       "      <td>15</td>\n",
       "      <td>58</td>\n",
       "      <td>12</td>\n",
       "    </tr>\n",
       "    <tr>\n",
       "      <th>4</th>\n",
       "      <td>1</td>\n",
       "      <td>22</td>\n",
       "      <td>2</td>\n",
       "      <td>0</td>\n",
       "      <td>811</td>\n",
       "      <td>3</td>\n",
       "      <td>16</td>\n",
       "      <td>1</td>\n",
       "      <td>10</td>\n",
       "      <td>116</td>\n",
       "    </tr>\n",
       "    <tr>\n",
       "      <th>5</th>\n",
       "      <td>11</td>\n",
       "      <td>63</td>\n",
       "      <td>2</td>\n",
       "      <td>118</td>\n",
       "      <td>21</td>\n",
       "      <td>612</td>\n",
       "      <td>27</td>\n",
       "      <td>10</td>\n",
       "      <td>13</td>\n",
       "      <td>15</td>\n",
       "    </tr>\n",
       "    <tr>\n",
       "      <th>6</th>\n",
       "      <td>18</td>\n",
       "      <td>27</td>\n",
       "      <td>22</td>\n",
       "      <td>0</td>\n",
       "      <td>31</td>\n",
       "      <td>32</td>\n",
       "      <td>827</td>\n",
       "      <td>0</td>\n",
       "      <td>1</td>\n",
       "      <td>0</td>\n",
       "    </tr>\n",
       "    <tr>\n",
       "      <th>7</th>\n",
       "      <td>2</td>\n",
       "      <td>59</td>\n",
       "      <td>22</td>\n",
       "      <td>1</td>\n",
       "      <td>20</td>\n",
       "      <td>2</td>\n",
       "      <td>0</td>\n",
       "      <td>856</td>\n",
       "      <td>13</td>\n",
       "      <td>53</td>\n",
       "    </tr>\n",
       "    <tr>\n",
       "      <th>8</th>\n",
       "      <td>14</td>\n",
       "      <td>39</td>\n",
       "      <td>11</td>\n",
       "      <td>83</td>\n",
       "      <td>12</td>\n",
       "      <td>36</td>\n",
       "      <td>13</td>\n",
       "      <td>10</td>\n",
       "      <td>718</td>\n",
       "      <td>38</td>\n",
       "    </tr>\n",
       "    <tr>\n",
       "      <th>9</th>\n",
       "      <td>15</td>\n",
       "      <td>22</td>\n",
       "      <td>7</td>\n",
       "      <td>10</td>\n",
       "      <td>83</td>\n",
       "      <td>12</td>\n",
       "      <td>1</td>\n",
       "      <td>27</td>\n",
       "      <td>18</td>\n",
       "      <td>814</td>\n",
       "    </tr>\n",
       "  </tbody>\n",
       "</table>\n",
       "</div>"
      ],
      "text/plain": [
       "     0     1    2    3    4    5    6    7    8    9\n",
       "0  878     0    7    2    2   58   25    1    7    0\n",
       "1    0  1092   10    3    0    7    3    0   20    0\n",
       "2   19    71  781   33   31    3   23   18   50    3\n",
       "3    4    24   25  814    1   49    8   15   58   12\n",
       "4    1    22    2    0  811    3   16    1   10  116\n",
       "5   11    63    2  118   21  612   27   10   13   15\n",
       "6   18    27   22    0   31   32  827    0    1    0\n",
       "7    2    59   22    1   20    2    0  856   13   53\n",
       "8   14    39   11   83   12   36   13   10  718   38\n",
       "9   15    22    7   10   83   12    1   27   18  814"
      ]
     },
     "execution_count": 16,
     "metadata": {},
     "output_type": "execute_result"
    }
   ],
   "source": [
    "# confusion_matrix\n",
    "print(\"\\nTable 4: Confusion matrix of the training data.\")\n",
    "pd.DataFrame(confusion_matrix(y_test_df, predicted_vals_test))"
   ]
  },
  {
   "cell_type": "markdown",
   "id": "downtown-botswana",
   "metadata": {},
   "source": [
    "Looking at Table 4, it can be seen that, 4 was often mistaken as 9, and 5 was often mistaken as 3. \n",
    "\n",
    "\n",
    "Previously, it was stated that 4 & 9, 7 & 9, 3 & 5, and 5 & 8 would be difficult to seperate. In the case of the training set, this was true. But apparently also for 0 & 5, 2 & 1, 5 & 1, 7 & 1, 8 & 1, and 8 & 3. In the case of the test set, this was true for 4 & 9 and 5 & 3. But not for the rest. "
   ]
  },
  {
   "cell_type": "markdown",
   "id": "pointed-strategy",
   "metadata": {},
   "source": [
    "### 2.1.6 Using alternative distance measures\n",
    "So far, the Euclidean distance was used to measure the distance between two vectors. However, this is not the only choice. Several other distance measures were used and the results are presented in the Table 5. "
   ]
  },
  {
   "cell_type": "code",
   "execution_count": 17,
   "id": "opposite-serbia",
   "metadata": {},
   "outputs": [],
   "source": [
    "# using alternative distance measures  \n",
    "from sklearn.metrics.pairwise import pairwise_distances\n",
    "  \n",
    "def distance_classifier_pairwise(input_data, centers, metric):\n",
    "    pred = []\n",
    "    distances_to_centers = pairwise_distances(input_data, centers, metric)\n",
    "    for i in range(len(distances_to_centers)):\n",
    "        pred.append(distances_to_centers[i, ].argmin())\n",
    "    return(pred)\n"
   ]
  },
  {
   "cell_type": "code",
   "execution_count": 18,
   "id": "standard-zoning",
   "metadata": {},
   "outputs": [
    {
     "name": "stdout",
     "output_type": "stream",
     "text": [
      "\n",
      "Table 5: The accuracy scores using alternative distance measures.\n"
     ]
    },
    {
     "data": {
      "text/html": [
       "<div>\n",
       "<style scoped>\n",
       "    .dataframe tbody tr th:only-of-type {\n",
       "        vertical-align: middle;\n",
       "    }\n",
       "\n",
       "    .dataframe tbody tr th {\n",
       "        vertical-align: top;\n",
       "    }\n",
       "\n",
       "    .dataframe thead th {\n",
       "        text-align: right;\n",
       "    }\n",
       "</style>\n",
       "<table border=\"1\" class=\"dataframe\">\n",
       "  <thead>\n",
       "    <tr style=\"text-align: right;\">\n",
       "      <th></th>\n",
       "      <th>Accuracy score</th>\n",
       "    </tr>\n",
       "  </thead>\n",
       "  <tbody>\n",
       "    <tr>\n",
       "      <th>Euclidean</th>\n",
       "      <td>0.8203</td>\n",
       "    </tr>\n",
       "    <tr>\n",
       "      <th>Cityblock</th>\n",
       "      <td>0.6685</td>\n",
       "    </tr>\n",
       "    <tr>\n",
       "      <th>Cosine</th>\n",
       "      <td>0.8216</td>\n",
       "    </tr>\n",
       "    <tr>\n",
       "      <th>L1</th>\n",
       "      <td>0.6685</td>\n",
       "    </tr>\n",
       "    <tr>\n",
       "      <th>L2</th>\n",
       "      <td>0.8203</td>\n",
       "    </tr>\n",
       "    <tr>\n",
       "      <th>Manhattan</th>\n",
       "      <td>0.6685</td>\n",
       "    </tr>\n",
       "  </tbody>\n",
       "</table>\n",
       "</div>"
      ],
      "text/plain": [
       "           Accuracy score\n",
       "Euclidean          0.8203\n",
       "Cityblock          0.6685\n",
       "Cosine             0.8216\n",
       "L1                 0.6685\n",
       "L2                 0.8203\n",
       "Manhattan          0.6685"
      ]
     },
     "metadata": {},
     "output_type": "display_data"
    }
   ],
   "source": [
    "# Euclidean\n",
    "pred_eu = distance_classifier_pairwise(X_test_df, train_center, metric = \"euclidean\")\n",
    "\n",
    "# Cityblock\n",
    "pred_city = distance_classifier_pairwise(X_test_df, train_center, metric = 'cityblock')\n",
    "\n",
    "# Cosine\n",
    "pred_cos = distance_classifier_pairwise(X_test_df, train_center, metric = 'cosine' )\n",
    "\n",
    "# L1\n",
    "pred_l1 = distance_classifier_pairwise(X_test_df, train_center, metric = 'l1')\n",
    "\n",
    "# L2\n",
    "pred_l2 = distance_classifier_pairwise(X_test_df, train_center, metric = 'l2')\n",
    "\n",
    "# Manhattan\n",
    "pred_manhattan = distance_classifier_pairwise(X_test_df, train_center, metric = 'manhattan')\n",
    "\n",
    "\n",
    "data = {'Accuracy score':[accuracy_score(y_test_df, pred_eu),\n",
    "                          accuracy_score(y_test_df, pred_city),\n",
    "                          accuracy_score(y_test_df, pred_cos),\n",
    "                          accuracy_score(y_test_df, pred_l1),\n",
    "                          accuracy_score(y_test_df, pred_l2),\n",
    "                          accuracy_score(y_test_df, pred_manhattan)]}\n",
    "acc_distances_df = pd.DataFrame(data, index=['Euclidean','Cityblock','Cosine','L1', 'L2', 'Manhattan'])\n",
    "\n",
    "print('\\nTable 5: The accuracy scores using alternative distance measures.')\n",
    "display(acc_distances_df)"
   ]
  },
  {
   "cell_type": "markdown",
   "id": "encouraging-flexibility",
   "metadata": {},
   "source": [
    "As can be seen in Table 5, the Cosine distance measure gives the highest result, namely an accuracy score of $0.8216$. The distance measures Cityblock, L1, and Manhattan give the same result, but also the lowest result with an accuracy score of $0.6685$. The distance measures Euclidean and L2 are in between these result, with an accuracy score of $0.8203$. However, the difference between those measures and Cosine is not that big. "
   ]
  },
  {
   "cell_type": "markdown",
   "id": "anonymous-gather",
   "metadata": {},
   "source": [
    "## 2.2 Bayes Rule classifier\n",
    "To keep things simple, only the digits 1 and 6 are considered from now on. First, it is important to decide which feature to use to discriminate between these two digits. Let's use the width of the digit as a discriminative feature. The second step is to implement this feature and to apply it to the training set, discretize it, and create corresponding histograms. "
   ]
  },
  {
   "cell_type": "markdown",
   "id": "coated-morning",
   "metadata": {},
   "source": [
    "### 2.2.1 Implement Bayes rule\n",
    "A function is created that would classify digits according to Bayes rule. The function first makes a subset of the input data, so that the data set would only contain the images of 1's and 6's. Then, the width of the 1's and 6's is calculated in to order to obtain $P(X = x \\vert C = 1)$ and $P(X = x \\vert C = 6)$. As described before, a digit is represented by a vector of 784 numbers, that represent a $28 \\times 28$ image. So, in order to get the width of an image, the vector is transformed back into a $28 \\times 28$ dataframe. For each row, it is counted how many numbers are not equal to 0.000, because 0.000 would be equal to a black pixel. Thus, for every image, there are 28 'widths' and the row with the biggest width, would be the actual width of the image. The maximum width is 28, since there are 28 columns. This implies that the width could range between 1 and 28. \n",
    "\n",
    "This function is able to calculate $P(X=x \\vert C = 1)$ and $P(X = x \\vert C = 6)$. More specifically, $P(X = x \\vert C = 1) = \\frac{\\text{number of samples in corresponding box}}{\\text{number of samples in C = 1 row}}$. Next, $P(C = 1) = \\frac{\\text{number of samples in row C = 1}}{\\text{total number of samples}}$ and $P(C = 6)=\\frac{\\text{number of samples in row C = 6}}{\\text{total number of samples}}$ are calculated. Then, by Bayes rule, $P(C \\vert X = x) = P(X = x \\vert C)P(C)$ can be calculated. Subsequently, $y_1(x) = P(X = x \\vert C = 1)P(C = 1)$ and $y_2(x) = P(X = x \\vert C = 6)P(C = 6)$ is calculated and $y(x) = y_1(x) - y_2(x)$ is used as a discriminant. If $y(x) > 0$ then the digit was predicted to be a 1, otherwise the digit was predicted to be a 6. "
   ]
  },
  {
   "cell_type": "code",
   "execution_count": 19,
   "id": "dangerous-watershed",
   "metadata": {},
   "outputs": [],
   "source": [
    "def Bayes(data_in, data_out):\n",
    "    \n",
    "    pred = []\n",
    "    import operator\n",
    "    data_in_out = pd.concat([data_in, data_out], axis = 1)\n",
    "    data_out_subset = data_out.loc[operator.or_(data_out.iloc[:, -1] == 6, data_out.iloc[:, -1] == 1)]\n",
    "    data_out_subset.index = range(len(data_out_subset))\n",
    "    data_in_subset = data_in_out.loc[operator.or_(data_in_out.iloc[:, -1] == 6, data_in_out.iloc[:, -1] == 1)]\n",
    "    \n",
    "    train_in_subset = data_in_out.loc[operator.or_(data_in_out.iloc[:, -1] == 6, data_in_out.iloc[:, -1] == 1)]\n",
    "    total = pd.DataFrame(train_in_subset)\n",
    "    widths_all = pd.DataFrame(index = range(1,(len(total)+1)),columns=['1', '6'])\n",
    "    \n",
    "    for j in range(len(total)):\n",
    "        if total.iloc[j,-1] == 1:\n",
    "            data_row = total.iloc[j, :-1]\n",
    "            data_mat = pd.DataFrame(data_row.values.reshape(28,28))\n",
    "            width = []\n",
    "            for i in range(28):\n",
    "                width.append(sum(data_mat.loc[i, :] != 0))\n",
    "            widths_all.iloc[j,0] = max(width)\n",
    "        else:\n",
    "            data_row = total.iloc[j, :-1]\n",
    "            data_mat = pd.DataFrame(data_row.values.reshape(28,28))\n",
    "            width = []\n",
    "            for i in range(28):\n",
    "                width.append(sum(data_mat.loc[i, :] != 0))\n",
    "                widths_all.iloc[j,1] = max(width)\n",
    "    \n",
    "    bins = pd.DataFrame(index = range(1, 29), columns = ['1', '6'])\n",
    "    for i in range(1, 29):\n",
    "        bins.loc[i, '1'] = sum(widths_all.iloc[:,0]==i)\n",
    "        bins.loc[i, '6'] = sum(widths_all.iloc[:,1]==i)\n",
    "    \n",
    "    prob_x_one_six = pd.DataFrame(index = range(1, 29), columns = ['1', '6'])\n",
    "    for i in range(1, 29):\n",
    "        prob_x_one_six.loc[i,'1'] = bins.loc[i, '1']/sum(bins.iloc[:,0])\n",
    "        prob_x_one_six.loc[i,'6'] = bins.loc[i, '6']/sum(bins.iloc[:,1])\n",
    "    \n",
    "    widths_total = pd.DataFrame(widths_all['1'].fillna(widths_all['6']))\n",
    "    widths_total.index = range(len(total))\n",
    "    \n",
    "    p_one = sum(bins.iloc[:,0])/(sum(bins.iloc[:,0])+sum(bins.iloc[:,1]))\n",
    "    p_six = sum(bins.iloc[:,1])/(sum(bins.iloc[:,0])+sum(bins.iloc[:,1]))\n",
    "    for i in widths_total.values:\n",
    "        y_1 = float(prob_x_one_six.loc[i,'1'])*p_one\n",
    "        y_2 = float(prob_x_one_six.loc[i,'6'])*p_six\n",
    "        if y_1 - y_2 > 0:\n",
    "            pred.append(1)\n",
    "        else:\n",
    "            pred.append(6)\n",
    "\n",
    "    output = pd.concat([pd.DataFrame(data_out_subset), pd.DataFrame(pred), pd.DataFrame(widths_total)], axis = 1)\n",
    "    prob = []\n",
    "    for i in range(len(total)):\n",
    "        if output.iloc[i, 1] == 1:\n",
    "            prob.append(float(prob_x_one_six.loc[widths_total.values[i],'1'])*p_one)\n",
    "        else:\n",
    "            prob.append(float(prob_x_one_six.loc[widths_total.values[i],'6'])*p_six)\n",
    "            \n",
    "    output = pd.concat([pd.DataFrame(data_out_subset), pd.DataFrame(pred), pd.DataFrame(widths_total), pd.DataFrame(prob)], axis = 1)\n",
    "    output.columns = [\"True number\", \"Prediction\", \"Width\", \"Probability\"]\n",
    "    return(output)"
   ]
  },
  {
   "cell_type": "markdown",
   "id": "close-pizza",
   "metadata": {},
   "source": [
    "### 2.2.2 Evaluate\n",
    "The classifier will be evaluated on the training set first and after that, on the test set.  "
   ]
  },
  {
   "cell_type": "code",
   "execution_count": 20,
   "id": "complex-store",
   "metadata": {},
   "outputs": [
    {
     "data": {
      "text/html": [
       "<div>\n",
       "<style scoped>\n",
       "    .dataframe tbody tr th:only-of-type {\n",
       "        vertical-align: middle;\n",
       "    }\n",
       "\n",
       "    .dataframe tbody tr th {\n",
       "        vertical-align: top;\n",
       "    }\n",
       "\n",
       "    .dataframe thead th {\n",
       "        text-align: right;\n",
       "    }\n",
       "</style>\n",
       "<table border=\"1\" class=\"dataframe\">\n",
       "  <thead>\n",
       "    <tr style=\"text-align: right;\">\n",
       "      <th></th>\n",
       "      <th>True number</th>\n",
       "      <th>Prediction</th>\n",
       "      <th>Width</th>\n",
       "      <th>Probability</th>\n",
       "    </tr>\n",
       "  </thead>\n",
       "  <tbody>\n",
       "    <tr>\n",
       "      <th>0</th>\n",
       "      <td>1</td>\n",
       "      <td>1</td>\n",
       "      <td>6</td>\n",
       "      <td>0.117852</td>\n",
       "    </tr>\n",
       "    <tr>\n",
       "      <th>1</th>\n",
       "      <td>1</td>\n",
       "      <td>1</td>\n",
       "      <td>6</td>\n",
       "      <td>0.117852</td>\n",
       "    </tr>\n",
       "    <tr>\n",
       "      <th>2</th>\n",
       "      <td>1</td>\n",
       "      <td>1</td>\n",
       "      <td>4</td>\n",
       "      <td>0.129463</td>\n",
       "    </tr>\n",
       "    <tr>\n",
       "      <th>3</th>\n",
       "      <td>6</td>\n",
       "      <td>6</td>\n",
       "      <td>15</td>\n",
       "      <td>0.047630</td>\n",
       "    </tr>\n",
       "    <tr>\n",
       "      <th>4</th>\n",
       "      <td>1</td>\n",
       "      <td>1</td>\n",
       "      <td>4</td>\n",
       "      <td>0.129463</td>\n",
       "    </tr>\n",
       "    <tr>\n",
       "      <th>5</th>\n",
       "      <td>6</td>\n",
       "      <td>6</td>\n",
       "      <td>9</td>\n",
       "      <td>0.017536</td>\n",
       "    </tr>\n",
       "    <tr>\n",
       "      <th>6</th>\n",
       "      <td>1</td>\n",
       "      <td>1</td>\n",
       "      <td>6</td>\n",
       "      <td>0.117852</td>\n",
       "    </tr>\n",
       "    <tr>\n",
       "      <th>7</th>\n",
       "      <td>1</td>\n",
       "      <td>6</td>\n",
       "      <td>16</td>\n",
       "      <td>0.047235</td>\n",
       "    </tr>\n",
       "    <tr>\n",
       "      <th>8</th>\n",
       "      <td>6</td>\n",
       "      <td>6</td>\n",
       "      <td>12</td>\n",
       "      <td>0.065324</td>\n",
       "    </tr>\n",
       "    <tr>\n",
       "      <th>9</th>\n",
       "      <td>6</td>\n",
       "      <td>6</td>\n",
       "      <td>13</td>\n",
       "      <td>0.062796</td>\n",
       "    </tr>\n",
       "  </tbody>\n",
       "</table>\n",
       "</div>"
      ],
      "text/plain": [
       "   True number  Prediction  Width  Probability\n",
       "0            1           1      6     0.117852\n",
       "1            1           1      6     0.117852\n",
       "2            1           1      4     0.129463\n",
       "3            6           6     15     0.047630\n",
       "4            1           1      4     0.129463\n",
       "5            6           6      9     0.017536\n",
       "6            1           1      6     0.117852\n",
       "7            1           6     16     0.047235\n",
       "8            6           6     12     0.065324\n",
       "9            6           6     13     0.062796"
      ]
     },
     "execution_count": 20,
     "metadata": {},
     "output_type": "execute_result"
    }
   ],
   "source": [
    "# apply the classifier to the training data\n",
    "bayes_train = Bayes(X_train_df, y_train_df)\n",
    "\n",
    "# first ten rows of the output of the Bayes function\n",
    "bayes_train.iloc[0:10,:]"
   ]
  },
  {
   "cell_type": "code",
   "execution_count": 21,
   "id": "formal-gibson",
   "metadata": {},
   "outputs": [
    {
     "name": "stdout",
     "output_type": "stream",
     "text": [
      "Accuracy score: 0.9631911532385466\n",
      "Percentage correct: 96.32\n",
      "              precision    recall  f1-score   support\n",
      "\n",
      "           1       0.98      0.95      0.97      6742\n",
      "           6       0.95      0.97      0.96      5918\n",
      "\n",
      "    accuracy                           0.96     12660\n",
      "   macro avg       0.96      0.96      0.96     12660\n",
      "weighted avg       0.96      0.96      0.96     12660\n",
      "\n"
     ]
    }
   ],
   "source": [
    "# running Bayes classifier on training data\n",
    "pred_vals_one_six = bayes_train.iloc[:,1]\n",
    "y_train_df_subset = y_train_df.loc[operator.or_(y_train_df.iloc[:, -1] == 6, y_train_df.iloc[:, -1] == 1)]\n",
    "y_train_df_subset.index = range(len(pred_vals_one_six))\n",
    "\n",
    "# percentage correct\n",
    "print(\"Accuracy score:\", accuracy_score(y_train_df_subset, pred_vals_one_six))\n",
    "print(\"Percentage correct:\", (accuracy_score(y_train_df_subset, pred_vals_one_six)*100).round(2))\n",
    "\n",
    "# classification report\n",
    "print(classification_report(y_train_df_subset, pred_vals_one_six))"
   ]
  },
  {
   "cell_type": "markdown",
   "id": "biblical-groove",
   "metadata": {},
   "source": [
    "The accuracy score of this classifier was $0.96$. "
   ]
  },
  {
   "cell_type": "code",
   "execution_count": 22,
   "id": "directed-wings",
   "metadata": {},
   "outputs": [
    {
     "name": "stdout",
     "output_type": "stream",
     "text": [
      "\n",
      "Table 6: Confusion matrix of the training data.\n"
     ]
    },
    {
     "data": {
      "text/html": [
       "<div>\n",
       "<style scoped>\n",
       "    .dataframe tbody tr th:only-of-type {\n",
       "        vertical-align: middle;\n",
       "    }\n",
       "\n",
       "    .dataframe tbody tr th {\n",
       "        vertical-align: top;\n",
       "    }\n",
       "\n",
       "    .dataframe thead th {\n",
       "        text-align: right;\n",
       "    }\n",
       "</style>\n",
       "<table border=\"1\" class=\"dataframe\">\n",
       "  <thead>\n",
       "    <tr style=\"text-align: right;\">\n",
       "      <th></th>\n",
       "      <th>1</th>\n",
       "      <th>6</th>\n",
       "    </tr>\n",
       "  </thead>\n",
       "  <tbody>\n",
       "    <tr>\n",
       "      <th>1</th>\n",
       "      <td>6426</td>\n",
       "      <td>316</td>\n",
       "    </tr>\n",
       "    <tr>\n",
       "      <th>6</th>\n",
       "      <td>150</td>\n",
       "      <td>5768</td>\n",
       "    </tr>\n",
       "  </tbody>\n",
       "</table>\n",
       "</div>"
      ],
      "text/plain": [
       "      1     6\n",
       "1  6426   316\n",
       "6   150  5768"
      ]
     },
     "execution_count": 22,
     "metadata": {},
     "output_type": "execute_result"
    }
   ],
   "source": [
    "# confusion_matrix \n",
    "print(\"\\nTable 6: Confusion matrix of the training data.\")\n",
    "pd.DataFrame(confusion_matrix(y_train_df_subset, pred_vals_one_six), index = [1,6], columns = [1,6])"
   ]
  },
  {
   "cell_type": "code",
   "execution_count": 23,
   "id": "promising-heart",
   "metadata": {},
   "outputs": [
    {
     "data": {
      "text/html": [
       "<div>\n",
       "<style scoped>\n",
       "    .dataframe tbody tr th:only-of-type {\n",
       "        vertical-align: middle;\n",
       "    }\n",
       "\n",
       "    .dataframe tbody tr th {\n",
       "        vertical-align: top;\n",
       "    }\n",
       "\n",
       "    .dataframe thead th {\n",
       "        text-align: right;\n",
       "    }\n",
       "</style>\n",
       "<table border=\"1\" class=\"dataframe\">\n",
       "  <thead>\n",
       "    <tr style=\"text-align: right;\">\n",
       "      <th></th>\n",
       "      <th>True number</th>\n",
       "      <th>Prediction</th>\n",
       "      <th>Width</th>\n",
       "      <th>Probability</th>\n",
       "    </tr>\n",
       "  </thead>\n",
       "  <tbody>\n",
       "    <tr>\n",
       "      <th>0</th>\n",
       "      <td>1</td>\n",
       "      <td>1</td>\n",
       "      <td>4</td>\n",
       "      <td>0.132824</td>\n",
       "    </tr>\n",
       "    <tr>\n",
       "      <th>1</th>\n",
       "      <td>1</td>\n",
       "      <td>1</td>\n",
       "      <td>5</td>\n",
       "      <td>0.166269</td>\n",
       "    </tr>\n",
       "    <tr>\n",
       "      <th>2</th>\n",
       "      <td>6</td>\n",
       "      <td>6</td>\n",
       "      <td>14</td>\n",
       "      <td>0.063067</td>\n",
       "    </tr>\n",
       "    <tr>\n",
       "      <th>3</th>\n",
       "      <td>1</td>\n",
       "      <td>1</td>\n",
       "      <td>5</td>\n",
       "      <td>0.166269</td>\n",
       "    </tr>\n",
       "    <tr>\n",
       "      <th>4</th>\n",
       "      <td>6</td>\n",
       "      <td>6</td>\n",
       "      <td>12</td>\n",
       "      <td>0.061156</td>\n",
       "    </tr>\n",
       "    <tr>\n",
       "      <th>5</th>\n",
       "      <td>6</td>\n",
       "      <td>6</td>\n",
       "      <td>12</td>\n",
       "      <td>0.061156</td>\n",
       "    </tr>\n",
       "    <tr>\n",
       "      <th>6</th>\n",
       "      <td>1</td>\n",
       "      <td>1</td>\n",
       "      <td>4</td>\n",
       "      <td>0.132824</td>\n",
       "    </tr>\n",
       "    <tr>\n",
       "      <th>7</th>\n",
       "      <td>1</td>\n",
       "      <td>1</td>\n",
       "      <td>4</td>\n",
       "      <td>0.132824</td>\n",
       "    </tr>\n",
       "    <tr>\n",
       "      <th>8</th>\n",
       "      <td>1</td>\n",
       "      <td>1</td>\n",
       "      <td>5</td>\n",
       "      <td>0.166269</td>\n",
       "    </tr>\n",
       "    <tr>\n",
       "      <th>9</th>\n",
       "      <td>1</td>\n",
       "      <td>1</td>\n",
       "      <td>6</td>\n",
       "      <td>0.127090</td>\n",
       "    </tr>\n",
       "  </tbody>\n",
       "</table>\n",
       "</div>"
      ],
      "text/plain": [
       "   True number  Prediction  Width  Probability\n",
       "0            1           1      4     0.132824\n",
       "1            1           1      5     0.166269\n",
       "2            6           6     14     0.063067\n",
       "3            1           1      5     0.166269\n",
       "4            6           6     12     0.061156\n",
       "5            6           6     12     0.061156\n",
       "6            1           1      4     0.132824\n",
       "7            1           1      4     0.132824\n",
       "8            1           1      5     0.166269\n",
       "9            1           1      6     0.127090"
      ]
     },
     "execution_count": 23,
     "metadata": {},
     "output_type": "execute_result"
    }
   ],
   "source": [
    "# apply the classifier to the test data\n",
    "bayes_test = Bayes(X_test_df, y_test_df)\n",
    "\n",
    "# first ten rows of the output of the Bayes function\n",
    "bayes_test.iloc[0:10,:]"
   ]
  },
  {
   "cell_type": "code",
   "execution_count": 24,
   "id": "interior-cabin",
   "metadata": {},
   "outputs": [
    {
     "name": "stdout",
     "output_type": "stream",
     "text": [
      "Accuracy score: 0.9737219302436694\n",
      "Percentage correct: 97.37\n",
      "              precision    recall  f1-score   support\n",
      "\n",
      "           1       0.98      0.97      0.98      1135\n",
      "           6       0.96      0.98      0.97       958\n",
      "\n",
      "    accuracy                           0.97      2093\n",
      "   macro avg       0.97      0.97      0.97      2093\n",
      "weighted avg       0.97      0.97      0.97      2093\n",
      "\n"
     ]
    }
   ],
   "source": [
    "# running Bayes classifier on test data\n",
    "pred_vals_one_six_test = bayes_test.iloc[:,1]\n",
    "y_test_df_subset = y_test_df.loc[operator.or_(y_test_df.iloc[:, -1] == 6, y_test_df.iloc[:, -1] == 1)]\n",
    "y_test_df_subset.index = range(len(pred_vals_one_six_test))\n",
    "\n",
    "# percentage correct\n",
    "print(\"Accuracy score:\", accuracy_score(y_test_df_subset, pred_vals_one_six_test))\n",
    "print(\"Percentage correct:\", (accuracy_score(y_test_df_subset, pred_vals_one_six_test)*100).round(2))\n",
    "\n",
    "# classification report\n",
    "print(classification_report(y_test_df_subset, pred_vals_one_six_test))"
   ]
  },
  {
   "cell_type": "markdown",
   "id": "aboriginal-branch",
   "metadata": {},
   "source": [
    "The accuracy score of this classifier was $0.97$. "
   ]
  },
  {
   "cell_type": "code",
   "execution_count": 25,
   "id": "ordinary-isolation",
   "metadata": {},
   "outputs": [
    {
     "name": "stdout",
     "output_type": "stream",
     "text": [
      "\n",
      "Table 7: Confusion matrix of the test data.\n"
     ]
    },
    {
     "data": {
      "text/html": [
       "<div>\n",
       "<style scoped>\n",
       "    .dataframe tbody tr th:only-of-type {\n",
       "        vertical-align: middle;\n",
       "    }\n",
       "\n",
       "    .dataframe tbody tr th {\n",
       "        vertical-align: top;\n",
       "    }\n",
       "\n",
       "    .dataframe thead th {\n",
       "        text-align: right;\n",
       "    }\n",
       "</style>\n",
       "<table border=\"1\" class=\"dataframe\">\n",
       "  <thead>\n",
       "    <tr style=\"text-align: right;\">\n",
       "      <th></th>\n",
       "      <th>1</th>\n",
       "      <th>6</th>\n",
       "    </tr>\n",
       "  </thead>\n",
       "  <tbody>\n",
       "    <tr>\n",
       "      <th>1</th>\n",
       "      <td>1097</td>\n",
       "      <td>38</td>\n",
       "    </tr>\n",
       "    <tr>\n",
       "      <th>6</th>\n",
       "      <td>17</td>\n",
       "      <td>941</td>\n",
       "    </tr>\n",
       "  </tbody>\n",
       "</table>\n",
       "</div>"
      ],
      "text/plain": [
       "      1    6\n",
       "1  1097   38\n",
       "6    17  941"
      ]
     },
     "execution_count": 25,
     "metadata": {},
     "output_type": "execute_result"
    }
   ],
   "source": [
    "# confusion_matrix \n",
    "print(\"\\nTable 7: Confusion matrix of the test data.\")\n",
    "pd.DataFrame(confusion_matrix(y_test_df_subset, pred_vals_one_six_test), index = [1,6], columns = [1,6])"
   ]
  },
  {
   "cell_type": "markdown",
   "id": "spare-illinois",
   "metadata": {},
   "source": [
    "Applying the Bayes classifier to the test set, resulted in an accuracy score of $0.97$. Thus, it can be concluded that the classifier did quite well. Using width as a discriminative feature, the digits 1 and 6 can be distinguished with an accuracy of $0.97$. "
   ]
  },
  {
   "cell_type": "markdown",
   "id": "mobile-freight",
   "metadata": {},
   "source": [
    "## 2.3 The Multi-class Perceptron Classifier\n",
    "A multi-class perceptron classifier is a single layer perceptron classifier. The idea is to construct a function that, given a new data point, will correctly predict the class to which the new data point belongs. A multi-class perceptron classifier can be made by usin multiple binary class classifiers trained with the 1 vs. all strategy.\n",
    "\n",
    "\\begin{align*}\n",
    "\\hat{y} = \\text{arg} \\max_{y \\in \\{1, \\dots, 9\\}} w^y x_i \\\\\n",
    "\\end{align*}\n",
    "\n",
    "Here, $\\hat{y}$ is the predicted digit, $w^y$ are the weights, and $x_i$ is the image. If the predicted digit is not the same as the actual digit, the weights need to be updated:\n",
    "\n",
    "\\begin{align*}\n",
    "\\text{if } \\hat{y} \\neq y_i:\\\\\n",
    "w^y = w^y + \\eta x_i\\\\\n",
    "w^{\\hat{y}} = w^{\\hat{y}} - \\eta x_i\n",
    "\\end{align*}\n",
    "\n",
    "Here, $\\eta$ is the step size or learning rate. Let's start by creating a $10 \\times 785$ weights matrix of ones and a $60000 \\times 1$ bias row vector of ones. Next, the X\\_train\\_df and bias vector are concatenated (the transpose of this matrix is used, in order for the matrix multiplication to work later on). The output of the perceptron on an input $x_i$, is the dot product of two vectors ($x_i$ and the weights vector). To find the output node with the strongest activation (that is, the predicted digit), the maximum value of the dot product is chosen. If the predicted value is not equal to the true value, the weights need to be updated. For a specific amount of iterations and for every image in the training set, it is checked whether the output of the network is equal to the actual label of the digit. "
   ]
  },
  {
   "cell_type": "code",
   "execution_count": 26,
   "id": "dominant-microphone",
   "metadata": {},
   "outputs": [],
   "source": [
    "weights = np.ones([10,785])\n",
    "bias = np.ones(len(X_train_df))\n",
    "input_datframe = pd.concat([pd.DataFrame(X_train_df), pd.DataFrame(bias)], axis = 1)\n",
    "input_datframe = input_datframe.T\n",
    "stepsize = 0.1\n",
    "correct = []"
   ]
  },
  {
   "cell_type": "code",
   "execution_count": 27,
   "id": "ethical-hands",
   "metadata": {},
   "outputs": [
    {
     "name": "stdout",
     "output_type": "stream",
     "text": [
      "Correct: 53901\n",
      "Accuracy/succes: 0.89835\n"
     ]
    }
   ],
   "source": [
    "# training set\n",
    "iterations = 100\n",
    "for i in range(iterations):\n",
    "    correct = []\n",
    "    for j in range(input_datframe.shape[1]):\n",
    "        true = int(y_train_df.iloc[j])\n",
    "        output = np.dot(weights, input_datframe.iloc[:, j])\n",
    "        pred = int(output.argmax())\n",
    "        if (pred == true):\n",
    "            correct.append(1)\n",
    "        else:\n",
    "            weights[pred, :] -= stepsize*input_datframe.iloc[:, j]\n",
    "            weights[true, :] += stepsize*input_datframe.iloc[:, j]\n",
    "print(\"Correct:\", sum(correct))\n",
    "print(\"Accuracy/succes:\", sum(correct)/input_datframe.shape[1] )"
   ]
  },
  {
   "cell_type": "markdown",
   "id": "fantastic-store",
   "metadata": {},
   "source": [
    "After iterating through the training set, the classifier is trained and can be fitted on the test set. "
   ]
  },
  {
   "cell_type": "code",
   "execution_count": 28,
   "id": "insured-objective",
   "metadata": {},
   "outputs": [],
   "source": [
    "bias = np.ones(len(X_test_df))\n",
    "input_datframe = pd.concat([pd.DataFrame(X_test_df), pd.DataFrame(bias)], axis = 1)\n",
    "input_datframe = input_datframe.T\n",
    "stepsize = 0.1\n",
    "correct = []"
   ]
  },
  {
   "cell_type": "code",
   "execution_count": 29,
   "id": "joint-definition",
   "metadata": {},
   "outputs": [
    {
     "name": "stdout",
     "output_type": "stream",
     "text": [
      "Correct: 8633\n",
      "Accuracy/succes: 0.8633\n"
     ]
    }
   ],
   "source": [
    "# testing set\n",
    "for i in range(input_datframe.shape[1]):\n",
    "    true = y_test_df.iloc[i, 0]\n",
    "    output = np.dot(weights, input_datframe.iloc[:, i])\n",
    "    pred = int(output.argmax())\n",
    "    if (pred == true):\n",
    "        correct.append(1)\n",
    "\n",
    "print(\"Correct:\", sum(correct))\n",
    "print(\"Accuracy/succes:\", sum(correct)/input_datframe.shape[1] )"
   ]
  },
  {
   "cell_type": "markdown",
   "id": "elect-pavilion",
   "metadata": {},
   "source": [
    "After running our algorithm on the test set, we have achieved an accuracy score of $0.863$."
   ]
  },
  {
   "cell_type": "markdown",
   "id": "usual-occurrence",
   "metadata": {},
   "source": [
    "# Conclusion\n",
    "Three different classifiers were evaluated in this project. Their accuracy in predicting handwritten digits on the test set was evaluated. The results can be found Table 8, below. It turns out that the Bayes' rule classifier achieves the highest accuracy, that is 0.97. "
   ]
  },
  {
   "cell_type": "code",
   "execution_count": 30,
   "id": "unexpected-friend",
   "metadata": {},
   "outputs": [
    {
     "name": "stdout",
     "output_type": "stream",
     "text": [
      "\n",
      "Table 8: The accuracy scores of the three different classifiers.\n"
     ]
    },
    {
     "data": {
      "text/html": [
       "<div>\n",
       "<style scoped>\n",
       "    .dataframe tbody tr th:only-of-type {\n",
       "        vertical-align: middle;\n",
       "    }\n",
       "\n",
       "    .dataframe tbody tr th {\n",
       "        vertical-align: top;\n",
       "    }\n",
       "\n",
       "    .dataframe thead th {\n",
       "        text-align: right;\n",
       "    }\n",
       "</style>\n",
       "<table border=\"1\" class=\"dataframe\">\n",
       "  <thead>\n",
       "    <tr style=\"text-align: right;\">\n",
       "      <th></th>\n",
       "      <th>Accuracy score</th>\n",
       "    </tr>\n",
       "  </thead>\n",
       "  <tbody>\n",
       "    <tr>\n",
       "      <th>Distance-based classifier</th>\n",
       "      <td>0.820300</td>\n",
       "    </tr>\n",
       "    <tr>\n",
       "      <th>Bayes' rule classifier</th>\n",
       "      <td>0.973722</td>\n",
       "    </tr>\n",
       "    <tr>\n",
       "      <th>Multi-class perceptron</th>\n",
       "      <td>0.863300</td>\n",
       "    </tr>\n",
       "  </tbody>\n",
       "</table>\n",
       "</div>"
      ],
      "text/plain": [
       "                           Accuracy score\n",
       "Distance-based classifier        0.820300\n",
       "Bayes' rule classifier           0.973722\n",
       "Multi-class perceptron           0.863300"
      ]
     },
     "metadata": {},
     "output_type": "display_data"
    }
   ],
   "source": [
    "conclus = {'Accuracy score':[accuracy_score(y_test_df, predicted_vals_test),\n",
    "                             accuracy_score(y_test_df_subset, pred_vals_one_six_test),\n",
    "                             sum(correct)/input_datframe.shape[1]]}\n",
    "conclus_df = pd.DataFrame(conclus, index=['Distance-based classifier',\"Bayes' rule classifier\",'Multi-class perceptron'])\n",
    "\n",
    "print('\\nTable 8: The accuracy scores of the three different classifiers.')\n",
    "display(conclus_df)"
   ]
  }
 ],
 "metadata": {
  "kernelspec": {
   "display_name": "Python 3",
   "language": "python",
   "name": "python3"
  },
  "language_info": {
   "codemirror_mode": {
    "name": "ipython",
    "version": 3
   },
   "file_extension": ".py",
   "mimetype": "text/x-python",
   "name": "python",
   "nbconvert_exporter": "python",
   "pygments_lexer": "ipython3",
   "version": "3.7.9"
  }
 },
 "nbformat": 4,
 "nbformat_minor": 5
}
